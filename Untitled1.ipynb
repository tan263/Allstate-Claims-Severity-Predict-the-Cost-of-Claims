{
 "cells": [
  {
   "cell_type": "code",
   "execution_count": 1,
   "metadata": {
    "collapsed": false
   },
   "outputs": [
    {
     "name": "stderr",
     "output_type": "stream",
     "text": [
      "C:\\Users\\User\\Anaconda2\\lib\\site-packages\\sklearn\\lda.py:4: DeprecationWarning: lda.LDA has been moved to discriminant_analysis.LinearDiscriminantAnalysis in 0.17 and will be removed in 0.19\n",
      "  \"in 0.17 and will be removed in 0.19\", DeprecationWarning)\n",
      "C:\\Users\\User\\Anaconda2\\lib\\site-packages\\sklearn\\qda.py:4: DeprecationWarning: qda.QDA has been moved to discriminant_analysis.QuadraticDiscriminantAnalysis in 0.17 and will be removed in 0.19.\n",
      "  \"in 0.17 and will be removed in 0.19.\", DeprecationWarning)\n"
     ]
    }
   ],
   "source": [
    "%matplotlib inline\n",
    "import IPython.core.display         \n",
    "# setup output image format (Chrome works best)\n",
    "IPython.core.display.set_matplotlib_formats(\"svg\")\n",
    "import matplotlib.pyplot as plt\n",
    "import matplotlib\n",
    "from numpy import *\n",
    "from sklearn import *\n",
    "from scipy import stats\n",
    "import IPython.utils.warn as warn\n",
    "random.seed(100)\n",
    "import json\n",
    "import csv"
   ]
  },
  {
   "cell_type": "code",
   "execution_count": 8,
   "metadata": {
    "collapsed": false
   },
   "outputs": [
    {
     "name": "stdout",
     "output_type": "stream",
     "text": [
      "1.25\n"
     ]
    }
   ],
   "source": [
    "a=var([0.0, 0.25, 0.25, 1.25, 1.5, 1.75, 2.75, 3.25])\n",
    "print a"
   ]
  },
  {
   "cell_type": "code",
   "execution_count": 7,
   "metadata": {
    "collapsed": false
   },
   "outputs": [
    {
     "name": "stdout",
     "output_type": "stream",
     "text": [
      "8\n"
     ]
    }
   ],
   "source": [
    "print sum([1,1,1,1,1,1,1,1])"
   ]
  },
  {
   "cell_type": "code",
   "execution_count": null,
   "metadata": {
    "collapsed": true
   },
   "outputs": [],
   "source": [
    "def comp_weight(models, trainX, trainY, valX, valY):\n",
    "    n = len(trainX)+ len(valX)\n",
    "    weights = []\n",
    "    Temp = []\n",
    "    for model in models:\n",
    "        predY1 = model.predict(trainX)\n",
    "        predY2 = model.predict(valX)\n",
    "        var = var(predY1-trainY)\n",
    "        sigma = pow(var, 1/2)\n",
    "        D = sum(pow(valY-predY2,2))\n",
    "        temp = pow(sigma,-n/2)*exp(-(1/var)*(float(D)/2))\n",
    "        Temp.append(temp)\n",
    "        \n",
    "    sum_temp = sum(Temp)\n",
    "    \n",
    "    for i in arange(len(models)):\n",
    "        weight = float(Temp[i])/float(sum_temp)\n",
    "        weights.append(weight)\n",
    "    \n",
    "    return weights\n",
    "        "
   ]
  },
  {
   "cell_type": "code",
   "execution_count": null,
   "metadata": {
    "collapsed": true
   },
   "outputs": [],
   "source": [
    "models = [rr, modelen, modelhuber, modelsvr, modelrf, modelpoly, modelrbf]"
   ]
  },
  {
   "cell_type": "code",
   "execution_count": null,
   "metadata": {
    "collapsed": true
   },
   "outputs": [],
   "source": [
    "def pred_by_new_model(X, models, weight):\n",
    "    predY = zeros(len(X)) # initialize\n",
    "    \n",
    "    for i in arange(len(models)):\n",
    "        Ypred = models[i].predict(X)\n",
    "        predY += weight[i]*Ypred\n",
    "        \n",
    "    return predY"
   ]
  },
  {
   "cell_type": "code",
   "execution_count": null,
   "metadata": {
    "collapsed": true
   },
   "outputs": [],
   "source": [
    "TrainYlog = log(trainY)\n",
    "\n",
    "trainYlogpred = pred_by_new_model(trainXl, models, weight)\n",
    "trainYpred = exp(trainYlogpred)\n",
    "\n",
    "# calculate MAE in log-output space\n",
    "MAElog = metrics.mean_absolute_error(TrainYlog, trainYlogpred)\n",
    "\n",
    "# calculate MAE in original space\n",
    "MAE = metrics.mean_absolute_error(trainY, trainYpred)\n",
    "\n",
    "print \"MAE_log = \" + str(MAElog)\n",
    "print \"MAE     = \" + str(MAE)\n",
    "\n",
    "# predict on test set, and save Kaggle submission file\n",
    "testYlogpred = rr.predict(testXl)\n",
    "testYpred = exp(testYlogpred)\n",
    "\n",
    "write_csv_allstate(\"allstate_final.csv\", testID, testYpred)"
   ]
  }
 ],
 "metadata": {
  "anaconda-cloud": {},
  "kernelspec": {
   "display_name": "Python [Root]",
   "language": "python",
   "name": "Python [Root]"
  },
  "language_info": {
   "codemirror_mode": {
    "name": "ipython",
    "version": 2
   },
   "file_extension": ".py",
   "mimetype": "text/x-python",
   "name": "python",
   "nbconvert_exporter": "python",
   "pygments_lexer": "ipython2",
   "version": "2.7.12"
  }
 },
 "nbformat": 4,
 "nbformat_minor": 0
}
